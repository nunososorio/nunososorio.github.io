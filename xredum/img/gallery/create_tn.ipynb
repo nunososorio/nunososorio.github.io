{
 "cells": [
  {
   "cell_type": "code",
   "execution_count": 1,
   "metadata": {},
   "outputs": [
    {
     "name": "stdout",
     "output_type": "stream",
     "text": [
      "Defaulting to user installation because normal site-packages is not writeable\n",
      "Requirement already satisfied: pillow in /usr/lib/python3/dist-packages (9.0.1)\n"
     ]
    }
   ],
   "source": [
    "!pip install pillow"
   ]
  },
  {
   "cell_type": "code",
   "execution_count": 6,
   "metadata": {},
   "outputs": [],
   "source": [
    "import os\n",
    "from PIL import Image\n",
    "\n",
    "# Create a new directory named 'tn'\n",
    "if not os.path.exists('tn'):\n",
    "    os.makedirs('tn')\n",
    "\n",
    "# Get all .jpg files in the root directory\n",
    "for filename in os.listdir('.'):\n",
    "    if filename.endswith('.jpg'):\n",
    "        img = Image.open(filename)\n",
    "        # Resize the image to 250x250\n",
    "        img = img.resize((250, 250))\n",
    "        # Save the image in the 'tn' directory\n",
    "        img.save(os.path.join('tn', filename))\n"
   ]
  }
 ],
 "metadata": {
  "kernelspec": {
   "display_name": "Python 3",
   "language": "python",
   "name": "python3"
  },
  "language_info": {
   "codemirror_mode": {
    "name": "ipython",
    "version": 3
   },
   "file_extension": ".py",
   "mimetype": "text/x-python",
   "name": "python",
   "nbconvert_exporter": "python",
   "pygments_lexer": "ipython3",
   "version": "3.10.12"
  },
  "orig_nbformat": 4
 },
 "nbformat": 4,
 "nbformat_minor": 2
}
